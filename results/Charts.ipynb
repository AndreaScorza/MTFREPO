{
 "cells": [
  {
   "cell_type": "code",
   "execution_count": 1,
   "metadata": {},
   "outputs": [],
   "source": [
    "import matplotlib.pyplot as plt\n",
    "import numpy as np\n",
    "import csv"
   ]
  },
  {
   "cell_type": "code",
   "execution_count": 17,
   "metadata": {},
   "outputs": [],
   "source": [
    "question_to_topic = { 1 : ('clarity', False), \n",
    "                      2 : ('usability', True),\n",
    "                      3 : ('accuracy', True),\n",
    "                      4 : ('clarity', False),\n",
    "                      5 : ('clarity', True),\n",
    "                      6 : ('brevity', True),\n",
    "                      7 : ('affect', False),\n",
    "                      8 : ('accuracy', False),\n",
    "                      9 : ('usability', False),\n",
    "                      10 : ('affect', True),\n",
    "                      11 : ('brevity', False),\n",
    "                      12 : ('usability', False),\n",
    "                      13 : ('brevity', False),\n",
    "                      14 : ('usability', True),\n",
    "                      15 : ('affect', True),\n",
    "                      16 : ('clarity', True),\n",
    "                      17 : ('accuracy', False),\n",
    "                      18 : ('affect', False),\n",
    "                      19 : ('brevity', True),\n",
    "                      20 : ('accuracy', True)\n",
    "                    }"
   ]
  },
  {
   "cell_type": "code",
   "execution_count": 28,
   "metadata": {},
   "outputs": [],
   "source": [
    "responses_test = {'clarity': [], 'brevity': [], 'usability': [], 'affect': [], 'accuracy': [], 'total': []}\n",
    "responses_control = {'clarity': [], 'brevity': [], 'usability': [], 'affect': [], 'accuracy': [], 'total': []}\n",
    "\n",
    "with open('responses.csv', 'r') as file:\n",
    "    reader = csv.reader(file)\n",
    "    for row in reader:\n",
    "        if len(row[1]) == 3:\n",
    "            ID = int(row[1])\n",
    "            condition = ID % 2\n",
    "            \n",
    "            for i in range(20):\n",
    "                topic, positive = question_to_topic[i + 1]\n",
    "                rating = int(row[5 + i])\n",
    "                \n",
    "                if not positive:\n",
    "                    rating = 6 - rating\n",
    "                \n",
    "                if condition == 1:\n",
    "                    responses_test[topic].append(rating)\n",
    "                    responses_test['total'].append(rating)\n",
    "                else:\n",
    "                    responses_control[topic].append(rating)\n",
    "                    responses_control['total'].append(rating)"
   ]
  },
  {
   "cell_type": "code",
   "execution_count": 54,
   "metadata": {},
   "outputs": [],
   "source": [
    "def plot(topic, condition):\n",
    "    categories = np.arange(5) + 1\n",
    "\n",
    "    def count(cat, responses):\n",
    "        return len([x for x in responses if x == cat])\n",
    "\n",
    "    if condition == 'test':\n",
    "        plt.bar(categories, [count(cat, responses_test[topic]) for cat in categories])\n",
    "    else:\n",
    "        plt.bar(categories, [count(cat, responses_control[topic]) for cat in categories])\n",
    "    plt.xlabel('response')\n",
    "    plt.ylabel('frequency')\n",
    "    plt.title('Distribution of responses regarding ' + topic + ' in ' + condition + ' condition')"
   ]
  },
  {
   "cell_type": "code",
   "execution_count": 57,
   "metadata": {},
   "outputs": [
    {
     "data": {
      "image/png": "[encoded data removed]",
      "text/plain": [
       "<Figure size 432x288 with 1 Axes>"
      ]
     },
     "metadata": {
      "needs_background": "light"
     },
     "output_type": "display_data"
    }
   ],
   "source": [
    "plot('clarity', 'test')"
   ]
  },
  {
   "cell_type": "code",
   "execution_count": 58,
   "metadata": {},
   "outputs": [
    {
     "data": {
      "image/png": "[encoded data removed]",
      "text/plain": [
       "<Figure size 432x288 with 1 Axes>"
      ]
     },
     "metadata": {
      "needs_background": "light"
     },
     "output_type": "display_data"
    }
   ],
   "source": [
    "plot('clarity', 'control')"
   ]
  }
 ],
 "metadata": {
  "kernelspec": {
   "display_name": "Python 3",
   "language": "python",
   "name": "python3"
  },
  "language_info": {
   "codemirror_mode": {
    "name": "ipython",
    "version": 3
   },
   "file_extension": ".py",
   "mimetype": "text/x-python",
   "name": "python",
   "nbconvert_exporter": "python",
   "pygments_lexer": "ipython3",
   "version": "3.7.5"
  }
 },
 "nbformat": 4,
 "nbformat_minor": 2
}
