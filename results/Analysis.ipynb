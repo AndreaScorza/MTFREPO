{
 "cells": [
  {
   "cell_type": "markdown",
   "metadata": {},
   "source": [
    "# Experiment logs"
   ]
  },
  {
   "cell_type": "code",
   "execution_count": 25,
   "metadata": {},
   "outputs": [],
   "source": [
    "import os\n",
    "\n",
    "logsdir = './logs'\n",
    "\n",
    "#results storage\n",
    "less_than_three = [] #participants who succeeded less than 3/5 times\n",
    "total_tasks = 0\n",
    "total_errors = 0\n",
    "system_failures = 0\n",
    "\n",
    "#loop through files\n",
    "for filename in os.listdir(logsdir):\n",
    "    with open(logsdir + '/' + filename, 'r') as file:\n",
    "        #read file\n",
    "        lines = [line.strip() for line in file.readlines()]\n",
    "        \n",
    "        #read headers at top\n",
    "        extract_info = lambda index : lines[index].split()[-1]\n",
    "        participant_id = extract_info(0)\n",
    "        condition = int(extract_info(1))\n",
    "        successes = int(extract_info(2))\n",
    "        \n",
    "        if successes < 3:\n",
    "            less_than_three.append((participant_id, condition))\n",
    "        \n",
    "        #report on system failures\n",
    "        total_tasks += 5\n",
    "        total_errors += 5 - successes \n",
    "            \n",
    "        if successes < 5:\n",
    "            for i, line in enumerate(lines):\n",
    "                if line.startswith('ERROR'):\n",
    "                    task_succeeded = extract_info(i-1) == 'yes'\n",
    "                    error_raised = extract_info(i)\n",
    "                    if error_raised == 'True' and not task_succeeded:\n",
    "                        system_failures += 1"
   ]
  },
  {
   "cell_type": "code",
   "execution_count": 27,
   "metadata": {},
   "outputs": [
    {
     "name": "stdout",
     "output_type": "stream",
     "text": [
      "1\n",
      "40\n",
      "6\n"
     ]
    }
   ],
   "source": [
    "print(len(less_than_three))\n",
    "print(total_tasks)\n",
    "print(system_failures)"
   ]
  },
  {
   "cell_type": "markdown",
   "metadata": {},
   "source": [
    "# User Evaluations\n",
    "\n",
    "## Import evaluation data"
   ]
  },
  {
   "cell_type": "code",
   "execution_count": 30,
   "metadata": {},
   "outputs": [],
   "source": [
    "import numpy as np\n",
    "import csv"
   ]
  },
  {
   "cell_type": "code",
   "execution_count": 31,
   "metadata": {},
   "outputs": [],
   "source": [
    "#links questions to their topic and whether they are positive (True) or negative (False)\n",
    "\n",
    "question_to_topic = { 1 : ('clarity', False), \n",
    "                      2 : ('usability', True),\n",
    "                      3 : ('accuracy', True),\n",
    "                      4 : ('clarity', False),\n",
    "                      5 : ('clarity', True),\n",
    "                      6 : ('brevity', True),\n",
    "                      7 : ('affect', False),\n",
    "                      8 : ('accuracy', False),\n",
    "                      9 : ('usability', False),\n",
    "                      10 : ('affect', True),\n",
    "                      11 : ('brevity', False),\n",
    "                      12 : ('usability', False),\n",
    "                      13 : ('brevity', False),\n",
    "                      14 : ('usability', True),\n",
    "                      15 : ('affect', True),\n",
    "                      16 : ('clarity', True),\n",
    "                      17 : ('accuracy', False),\n",
    "                      18 : ('affect', False),\n",
    "                      19 : ('brevity', True),\n",
    "                      20 : ('accuracy', True)\n",
    "                    }"
   ]
  },
  {
   "cell_type": "code",
   "execution_count": 32,
   "metadata": {},
   "outputs": [],
   "source": [
    "#import data from csv\n",
    "\n",
    "topics = ['accuracy', 'affect', 'brevity',  'clarity', 'usability', 'total']\n",
    "\n",
    "responses_test = {topic: [] for topic in topics}\n",
    "responses_control = {topic: [] for topic in topics}\n",
    "\n",
    "with open('responses.csv', 'r') as file:\n",
    "    reader = csv.reader(file)\n",
    "    for row in reader:\n",
    "        if len(row[1]) == 3:\n",
    "            ID = int(row[1])\n",
    "            condition = ID % 2\n",
    "            \n",
    "            for i in range(20):\n",
    "                topic, positive = question_to_topic[i + 1]\n",
    "                rating = int(row[5 + i])\n",
    "                \n",
    "                if not positive:\n",
    "                    rating = 6 - rating\n",
    "                \n",
    "                if condition == 1:\n",
    "                    responses_test[topic].append(rating)\n",
    "                    responses_test['total'].append(rating)\n",
    "                else:\n",
    "                    responses_control[topic].append(rating)\n",
    "                    responses_control['total'].append(rating)"
   ]
  },
  {
   "cell_type": "markdown",
   "metadata": {},
   "source": [
    "## Make histograms"
   ]
  },
  {
   "cell_type": "code",
   "execution_count": 33,
   "metadata": {},
   "outputs": [],
   "source": [
    "from matplotlib import rcParams\n",
    "import matplotlib.pyplot as plt\n",
    "\n",
    "rcParams['figure.figsize'] = [10.0, 8.0]\n",
    "\n",
    "rcParams['font.size'] = 12\n",
    "rcParams['font.family'] = 'sans-serif'"
   ]
  },
  {
   "cell_type": "code",
   "execution_count": 34,
   "metadata": {},
   "outputs": [],
   "source": [
    "def histogram(topic, condition, make_title = True, title = '', exportpath = None):\n",
    "    \"\"\"Make a plot of the responses for a particular topic and condition\"\"\"\n",
    "    categories = np.arange(5) + 1\n",
    "\n",
    "    def count(cat, responses):\n",
    "        return len([x for x in responses if x == cat])\n",
    "\n",
    "    with plt.style.context('seaborn-paper'):\n",
    "        if condition == 'test':\n",
    "            plt.bar(categories, [count(cat, responses_test[topic]) for cat in categories])\n",
    "        else:\n",
    "            plt.bar(categories, [count(cat, responses_control[topic]) for cat in categories])\n",
    "        plt.xlabel('response')\n",
    "        plt.ylabel('frequency')\n",
    "        \n",
    "        if make_title:\n",
    "            if title == '':\n",
    "                title = 'Distribution of responses regarding ' + topic + ' in ' + condition + ' condition'\n",
    "            plt.title(title)\n",
    "        \n",
    "        if exportpath:\n",
    "            plt.savefig(exportpath + '.pdf')"
   ]
  },
  {
   "cell_type": "code",
   "execution_count": 36,
   "metadata": {
    "scrolled": true
   },
   "outputs": [
    {
     "data": {
      "image/png": "[encoded data removed]",
      "text/plain": [
       "<Figure size 460.8x316.8 with 1 Axes>"
      ]
     },
     "metadata": {
      "needs_background": "light"
     },
     "output_type": "display_data"
    }
   ],
   "source": [
    "#example\n",
    "histogram('clarity', 'test', make_title = False)"
   ]
  },
  {
   "cell_type": "markdown",
   "metadata": {},
   "source": [
    "### Save figures"
   ]
  },
  {
   "cell_type": "code",
   "execution_count": 21,
   "metadata": {},
   "outputs": [],
   "source": [
    "conditions = [('a', 'test'), ('b', 'control')]\n",
    "\n",
    "starting_index = 3\n",
    "\n",
    "for i, topic in enumerate(topics):\n",
    "    for sub_i, condition in conditions:\n",
    "        index = str(i + starting_index) + sub_i\n",
    "        filename =  ' '.join([index, topic, condition])\n",
    "        \n",
    "        histogram(topic, condition, make_title = False, exportpath = filename)\n",
    "        plt.close()"
   ]
  },
  {
   "cell_type": "markdown",
   "metadata": {},
   "source": [
    "## Test significance"
   ]
  },
  {
   "cell_type": "code",
   "execution_count": 37,
   "metadata": {},
   "outputs": [],
   "source": [
    "import scipy.stats as stats"
   ]
  },
  {
   "cell_type": "code",
   "execution_count": 43,
   "metadata": {},
   "outputs": [],
   "source": [
    "#count frequencies\n",
    "def frequencies(responses):\n",
    "    get_freq = lambda rating : sum(int(response == rating) for response in responses)\n",
    "    freqs = [get_freq(i + 1) for i in range(5)]\n",
    "    \n",
    "    return freqs\n",
    "\n",
    "#perform chi-squared\n",
    "def compare(topic):\n",
    "    control = frequencies(responses_control[topic])\n",
    "    test = frequencies(responses_test[topic])\n",
    "    \n",
    "    chi, p = stats.chisquare(test, control)\n",
    "    \n",
    "    return chi, p"
   ]
  },
  {
   "cell_type": "code",
   "execution_count": 49,
   "metadata": {},
   "outputs": [
    {
     "name": "stdout",
     "output_type": "stream",
     "text": [
      "accuracy 3.91 0.419\n",
      "affect 6.19 0.186\n",
      "brevity 3.58 0.466\n",
      "clarity 4.12 0.39\n",
      "usability 13.3 0.01\n",
      "total 1.71 0.79\n"
     ]
    }
   ],
   "source": [
    "for topic in topics:\n",
    "    chi, p = compare(topic)\n",
    "    \n",
    "    chi = round(chi, 2)\n",
    "    p = round(p, 3)\n",
    "    \n",
    "    print(topic, chi, p)"
   ]
  },
  {
   "cell_type": "code",
   "execution_count": 68,
   "metadata": {},
   "outputs": [
    {
     "name": "stdout",
     "output_type": "stream",
     "text": [
      "test: 0.477\n",
      "control: 0.318\n"
     ]
    }
   ],
   "source": [
    "#compute the median for usability\n",
    "def over_n(n):\n",
    "    get_ratio = lambda responses : round( sum(int(response >= n) for response in responses) / len(responses), 3 )\n",
    "    \n",
    "    print('test:', get_ratio(responses_test['usability']))\n",
    "    print('control:', get_ratio(responses_control['usability']))\n",
    "\n",
    "def quantile(q):\n",
    "    quantile_test = np.nanquantile(responses_test['usability'], q)\n",
    "    quantile_control = np.nanquantile(responses_control['usability'], q)\n",
    "\n",
    "    print('test:', quantile_test)\n",
    "    print('control:', quantile_control)\n",
    "\n",
    "\n",
    "over_n(4)\n"
   ]
  }
 ],
 "metadata": {
  "kernelspec": {
   "display_name": "Python 3",
   "language": "python",
   "name": "python3"
  },
  "language_info": {
   "codemirror_mode": {
    "name": "ipython",
    "version": 3
   },
   "file_extension": ".py",
   "mimetype": "text/x-python",
   "name": "python",
   "nbconvert_exporter": "python",
   "pygments_lexer": "ipython3",
   "version": "3.6.8"
  }
 },
 "nbformat": 4,
 "nbformat_minor": 2
}
